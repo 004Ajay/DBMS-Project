{
 "cells": [
  {
   "cell_type": "code",
   "execution_count": 1,
   "id": "66b59573",
   "metadata": {},
   "outputs": [
    {
     "ename": "TclError",
     "evalue": "bitmap \"favicon.ico\" not defined",
     "output_type": "error",
     "traceback": [
      "\u001b[1;31m---------------------------------------------------------------------------\u001b[0m",
      "\u001b[1;31mTclError\u001b[0m                                  Traceback (most recent call last)",
      "Cell \u001b[1;32mIn [1], line 6\u001b[0m\n\u001b[0;32m      4\u001b[0m window\u001b[38;5;241m.\u001b[39mgeometry(\u001b[38;5;124m\"\u001b[39m\u001b[38;5;124m1920x1080\u001b[39m\u001b[38;5;124m\"\u001b[39m)\n\u001b[0;32m      5\u001b[0m window\u001b[38;5;241m.\u001b[39mtitle(\u001b[38;5;124m\"\u001b[39m\u001b[38;5;124mwelcome\u001b[39m\u001b[38;5;124m\"\u001b[39m)\n\u001b[1;32m----> 6\u001b[0m \u001b[43mwindow\u001b[49m\u001b[38;5;241;43m.\u001b[39;49m\u001b[43miconbitmap\u001b[49m\u001b[43m(\u001b[49m\u001b[38;5;124;43m'\u001b[39;49m\u001b[38;5;124;43mfavicon.ico\u001b[39;49m\u001b[38;5;124;43m'\u001b[39;49m\u001b[43m)\u001b[49m\n\u001b[0;32m      9\u001b[0m \u001b[38;5;66;03m#background\u001b[39;00m\n\u001b[0;32m     11\u001b[0m bg \u001b[38;5;241m=\u001b[39m Label(window,bg\u001b[38;5;241m=\u001b[39m\u001b[38;5;124m\"\u001b[39m\u001b[38;5;124mwhite\u001b[39m\u001b[38;5;124m\"\u001b[39m)\n",
      "File \u001b[1;32m~\\AppData\\Local\\Programs\\Python\\Python310\\lib\\tkinter\\__init__.py:2109\u001b[0m, in \u001b[0;36mWm.wm_iconbitmap\u001b[1;34m(self, bitmap, default)\u001b[0m\n\u001b[0;32m   2107\u001b[0m     \u001b[38;5;28;01mreturn\u001b[39;00m \u001b[38;5;28mself\u001b[39m\u001b[38;5;241m.\u001b[39mtk\u001b[38;5;241m.\u001b[39mcall(\u001b[38;5;124m'\u001b[39m\u001b[38;5;124mwm\u001b[39m\u001b[38;5;124m'\u001b[39m, \u001b[38;5;124m'\u001b[39m\u001b[38;5;124miconbitmap\u001b[39m\u001b[38;5;124m'\u001b[39m, \u001b[38;5;28mself\u001b[39m\u001b[38;5;241m.\u001b[39m_w, \u001b[38;5;124m'\u001b[39m\u001b[38;5;124m-default\u001b[39m\u001b[38;5;124m'\u001b[39m, default)\n\u001b[0;32m   2108\u001b[0m \u001b[38;5;28;01melse\u001b[39;00m:\n\u001b[1;32m-> 2109\u001b[0m     \u001b[38;5;28;01mreturn\u001b[39;00m \u001b[38;5;28;43mself\u001b[39;49m\u001b[38;5;241;43m.\u001b[39;49m\u001b[43mtk\u001b[49m\u001b[38;5;241;43m.\u001b[39;49m\u001b[43mcall\u001b[49m\u001b[43m(\u001b[49m\u001b[38;5;124;43m'\u001b[39;49m\u001b[38;5;124;43mwm\u001b[39;49m\u001b[38;5;124;43m'\u001b[39;49m\u001b[43m,\u001b[49m\u001b[43m \u001b[49m\u001b[38;5;124;43m'\u001b[39;49m\u001b[38;5;124;43miconbitmap\u001b[39;49m\u001b[38;5;124;43m'\u001b[39;49m\u001b[43m,\u001b[49m\u001b[43m \u001b[49m\u001b[38;5;28;43mself\u001b[39;49m\u001b[38;5;241;43m.\u001b[39;49m\u001b[43m_w\u001b[49m\u001b[43m,\u001b[49m\u001b[43m \u001b[49m\u001b[43mbitmap\u001b[49m\u001b[43m)\u001b[49m\n",
      "\u001b[1;31mTclError\u001b[0m: bitmap \"favicon.ico\" not defined"
     ]
    }
   ],
   "source": [
    "from tkinter import *\n",
    "\n",
    "window = Tk()\n",
    "window.geometry(\"1920x1080\")\n",
    "window.title(\"welcome\")\n",
    "window.iconbitmap('favicon.ico')\n",
    "\n",
    "\n",
    "#background\n",
    "\n",
    "bg = Label(window,bg=\"white\")\n",
    "bg.place(x=0,y=0,relwidth=1,relheight=1)\n",
    "\n",
    "\n",
    "\n",
    "#textss\n",
    "\n",
    "username = \"<username>\"\n",
    "welcome = Label(text=\"Welcome \"+username,font=('Arial',40,'bold'),bg=\"white\")\n",
    "welcome.place(x=500,y=60)\n",
    "\n",
    "stat = Label(window,text=\"Statistics\",font=('Arial',30,'bold'),bg=\"white\")\n",
    "stat.place(x=250,y=200)\n",
    "\n",
    "play = Label(window,text=\"Play now\",font=('Arial',30,'bold'),bg=\"white\")\n",
    "play.place(x=1150,y=191.5)\n",
    "\n",
    "#buttons bro buttons\n",
    "\n",
    "def logout():\n",
    "    return()\n",
    "\n",
    "b_logout = Button(window,text =\"Log out\",font=('Arial',8),command=logout,height=1,width=7)\n",
    "b_logout.pack(padx=40,pady=30)\n",
    "b_logout.place(relx=.919,rely=.0149)\n",
    "\n",
    "def settings():\n",
    "    return()\n",
    "\n",
    "images = PhotoImage(file=\"set.png\")\n",
    "b_logout = Button(window,image=images,command=settings,height=25)\n",
    "b_logout.pack(padx=40,pady=30)\n",
    "b_logout.place(relx=.955,rely=.008)\n",
    "\n",
    "\n",
    "def qu():\n",
    "    return()\n",
    "\n",
    "b_qu = Button(window,text=\"Question\\ncategories>>\",command=qu)\n",
    "b_qu.pack(padx=40,pady=30)\n",
    "b_qu.place(relx=.78,rely=.33)\n",
    "\n",
    "\n",
    "\n",
    "\n",
    "\n",
    "\n",
    "\n",
    "\n",
    "\n",
    "\n",
    "\n",
    "\n",
    "\n",
    "\n",
    "\n",
    "\n",
    "\n",
    "\n",
    "\n",
    "window.mainloop()"
   ]
  },
  {
   "cell_type": "code",
   "execution_count": null,
   "id": "722ed9c8",
   "metadata": {},
   "outputs": [],
   "source": []
  }
 ],
 "metadata": {
  "kernelspec": {
   "display_name": "Python 3 (ipykernel)",
   "language": "python",
   "name": "python3"
  },
  "language_info": {
   "codemirror_mode": {
    "name": "ipython",
    "version": 3
   },
   "file_extension": ".py",
   "mimetype": "text/x-python",
   "name": "python",
   "nbconvert_exporter": "python",
   "pygments_lexer": "ipython3",
   "version": "3.10.8"
  }
 },
 "nbformat": 4,
 "nbformat_minor": 5
}
